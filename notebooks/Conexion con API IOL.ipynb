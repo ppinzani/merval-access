{
 "cells": [
  {
   "cell_type": "code",
   "execution_count": 1,
   "id": "370a3c48",
   "metadata": {},
   "outputs": [],
   "source": [
    "#Agrego el dircetorio anterior al path para poder importar mis clases\n",
    "import sys\n",
    "sys.path.append(\"../\")\n",
    "\n",
    "from app.iol_api_access import IolApiAccess\n",
    "\n",
    "#Creo la conexion a la API\n",
    "api = IolApiAccess()\n",
    "\n",
    "#Me logueo a IOL\n",
    "api.authenticate()"
   ]
  },
  {
   "cell_type": "code",
   "execution_count": 4,
   "id": "70401057",
   "metadata": {},
   "outputs": [],
   "source": [
    "# Pido la cotizacion de los instrumentos \n",
    "endpoint = \"https://api.invertironline.com/api/v2/argentina/Titulos/Cotizacion/Instrumentos\"\n",
    "params = {\"pais\": \"argentina\"}\n",
    "r = api.get(url=endpoint, params=params)"
   ]
  },
  {
   "cell_type": "code",
   "execution_count": 5,
   "id": "bf9c7ca8",
   "metadata": {},
   "outputs": [
    {
     "data": {
      "text/plain": [
       "{'message': 'Authorization has been denied for this request.'}"
      ]
     },
     "execution_count": 5,
     "metadata": {},
     "output_type": "execute_result"
    }
   ],
   "source": [
    "r.json()"
   ]
  }
 ],
 "metadata": {
  "kernelspec": {
   "display_name": "Python 3",
   "language": "python",
   "name": "python3"
  },
  "language_info": {
   "codemirror_mode": {
    "name": "ipython",
    "version": 3
   },
   "file_extension": ".py",
   "mimetype": "text/x-python",
   "name": "python",
   "nbconvert_exporter": "python",
   "pygments_lexer": "ipython3",
   "version": "3.5.2"
  }
 },
 "nbformat": 4,
 "nbformat_minor": 5
}
